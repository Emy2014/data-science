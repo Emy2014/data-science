{
 "cells": [
  {
   "cell_type": "markdown",
   "metadata": {
    "id": "DipNubrF_b-h"
   },
   "source": [
    "# Convolutional Neural Network with Only Image Data"
   ]
  },
  {
   "cell_type": "code",
   "execution_count": 1,
   "metadata": {
    "id": "1kJVIs_V1G0C"
   },
   "outputs": [
    {
     "name": "stdout",
     "output_type": "stream",
     "text": [
      "GPUs detected: [PhysicalDevice(name='/physical_device:GPU:0', device_type='GPU')]\n"
     ]
    }
   ],
   "source": [
    "import tensorflow as tf\n",
    "# Check if TensorFlow sees a GPU\n",
    "gpus = tf.config.list_physical_devices('GPU')\n",
    "if gpus:\n",
    "    print(f\"GPUs detected: {gpus}\")\n",
    "else:\n",
    "    print(\"No GPU detected. Training will use CPU.\")\n",
    "\n",
    "if gpus:\n",
    "    tf.config.set_visible_devices(gpus[0], 'GPU')"
   ]
  },
  {
   "cell_type": "code",
   "execution_count": null,
   "metadata": {
    "id": "i5_uEvifTzFF"
   },
   "outputs": [],
   "source": [
    "# These two packages may need to re-install when switching to a new runtime environment\n",
    "!pip install -q tensorflow\n",
    "!pip install -q keras-tuner\n"
   ]
  },
  {
   "cell_type": "code",
   "execution_count": 2,
   "metadata": {
    "id": "0zW8OP4TnBzq"
   },
   "outputs": [],
   "source": [
    "import os\n",
    "import random\n",
    "import shutil\n",
    "import json\n",
    "\n",
    "import numpy as np\n",
    "import pandas as pd\n",
    "import matplotlib.pyplot as plt\n",
    "\n",
    "import tensorflow as tf\n",
    "from tensorflow.keras.preprocessing.image import array_to_img, img_to_array, load_img\n",
    "from sklearn.metrics import accuracy_score, confusion_matrix, ConfusionMatrixDisplay\n",
    "\n",
    "import seaborn as sns\n",
    "import matplotlib.pyplot as plt\n",
    "\n",
    "\n",
    "RANDOM_CODE = 1234\n",
    "\n",
    "IMAGE_PATH = \"Data (1)/Pictures\"\n",
    "RENAME_PATH = \"Data (1)/rename.json\"\n",
    "TABLE_DATA_PATH = \"Data (1)/regional_combined_centroids.csv\"\n",
    "\n",
    "random.seed(RANDOM_CODE)\n",
    "np.random.seed(RANDOM_CODE)\n",
    "tf.random.set_seed(RANDOM_CODE)\n"
   ]
  },
  {
   "cell_type": "markdown",
   "metadata": {
    "id": "NfnkehZQh9wc"
   },
   "source": [
    "### Mount Google Drive (If on Google Colab)"
   ]
  },
  {
   "cell_type": "code",
   "execution_count": null,
   "metadata": {
    "id": "3MWqjKfsnqEE"
   },
   "outputs": [],
   "source": [
    "from google.colab import drive\n",
    "drive.mount('/content/drive')\n",
    "\n",
    "target_folder = \"207 Machine Learning: Final Project\"\n",
    "found_path = None\n",
    "\n",
    "for root, dirs, files in os.walk(\"/content/drive/MyDrive\"):\n",
    "    if target_folder in dirs:\n",
    "        found_path = os.path.join(root, target_folder)\n",
    "        break\n",
    "\n",
    "if found_path:\n",
    "    os.chdir(found_path)\n",
    "    print(\"Changed working directory to:\", os.getcwd())\n",
    "else:\n",
    "    print(f\"Folder '{target_folder}' not found.\")\n"
   ]
  },
  {
   "cell_type": "code",
   "execution_count": 3,
   "metadata": {
    "id": "CxDioUK_FxtS"
   },
   "outputs": [],
   "source": [
    "def view_missing_values(df):\n",
    "    row_count, col_count = df.shape\n",
    "    summary = pd.DataFrame({\n",
    "        'Missing Value Count': df.isnull().sum(),\n",
    "        'Proportion of Missing Values': df.isnull().sum() / row_count,\n",
    "        'Data Type': df.dtypes\n",
    "    })\n",
    "    with pd.option_context('display.max_rows', None, 'display.max_columns', None):\n",
    "        display(summary)\n",
    "        print(\"Shape of the data frame\", df.shape)\n",
    "\n",
    "def drop_columns_missing_proportion(df, proportion, drop=None):\n",
    "    row_count, col_count = df.shape\n",
    "    summary = pd.DataFrame(df.isnull().sum(), columns=['Missing Value Count'])\n",
    "    summary['Proportion of Missing Values'] = summary['Missing Value Count'] / row_count\n",
    "    cols_to_drop = summary[summary['Proportion of Missing Values'] >= proportion].index.tolist()\n",
    "    df.drop(columns=cols_to_drop, inplace=True)\n",
    "    print(f'Dropping columns with more than {proportion * 100:.2f}% missing values: ', cols_to_drop)\n"
   ]
  },
  {
   "cell_type": "markdown",
   "metadata": {
    "id": "HCkoN9HwnBzr"
   },
   "source": [
    "## <span style=\"color:chocolate\">1. Data Preprocessing</span>\n",
    "\n",
    "\n"
   ]
  },
  {
   "cell_type": "markdown",
   "metadata": {
    "id": "3boN-hcRhpFG"
   },
   "source": [
    "### 1.1 Census Data Pre-processing"
   ]
  },
  {
   "cell_type": "code",
   "execution_count": 4,
   "metadata": {
    "colab": {
     "base_uri": "https://localhost:8080/"
    },
    "executionInfo": {
     "elapsed": 388,
     "status": "ok",
     "timestamp": 1754084291062,
     "user": {
      "displayName": "Yu-Sheng Lee",
      "userId": "03813195294060258657"
     },
     "user_tz": 420
    },
    "id": "7UzPAxqnhveW",
    "outputId": "98f8ebe1-cb1a-40ca-931b-2d5911561add"
   },
   "outputs": [
    {
     "name": "stdout",
     "output_type": "stream",
     "text": [
      "Dropping columns with more than 20.00% missing values:  ['LAPop_Urban1_Rural10', 'LAPop_UrbanHalf_Rural10', 'LAPop_Urban1_Rural20', 'LALowIncome_Urban1_Rural10', 'LALowIncome_UrbanHalf_Rural10', 'LALowIncome_Urban1_Rural20', 'LAPop_10Miles', 'LAPopShare_10Miles', 'LALowIncome_10Miles', 'LALowIncomeShare_10Miles', 'LAKids_10Miles', 'LAKidsShare_10Miles', 'LASeniors_10Miles', 'LASeniorsShare_10Miles', 'LAWhite_10Miles', 'LAWhiteShare_10Miles', 'LABlack_10Miles', 'LABlackShare_10Miles', 'LAAsian_10Miles', 'LAAsianShare_10Miles', 'LANHPI_10Miles', 'LANHPIShare_10Miles', 'LAAIAN_10Miles', 'LAAIANShare_10Miles', 'LAMultiracial_10Miles', 'LAMultiracialShare_10Miles', 'LAHispanic_10Miles', 'LAHispanicShare_10Miles', 'LANoVehicle_10Miles', 'LANoVehicleShare_10Miles', 'LASNAP_10Miles', 'LASNAPShare_10Miles', 'LAPop_20Miles', 'LAPopShare_20Miles', 'LALowIncome_20Miles', 'LALowIncomeShare_20Miles', 'LAKids_20Miles', 'LAKidsShare_20Miles', 'LASeniors_20Miles', 'LASeniorsShare_20Miles', 'LAWhite_20Miles', 'LAWhiteShare_20Miles', 'LABlack_20Miles', 'LABlackShare_20Miles', 'LAAsian_20Miles', 'LAAsianShare_20Miles', 'LANHPI_20Miles', 'LANHPIShare_20Miles', 'LAAIAN_20Miles', 'LAAIANShare_20Miles', 'LAMultiracial_20Miles', 'LAMultiracialShare_20Miles', 'LAHispanic_20Miles', 'LAHispanicShare_20Miles', 'LANoVehicle_20Miles', 'LANoVehicleShare_20Miles', 'LASNAP_20Miles', 'LASNAPShare_20Miles']\n",
      "TractID                         object\n",
      "StateName                       object\n",
      "IsUrban                          int64\n",
      "Pop2010                        float64\n",
      "OccupiedHousingUnits           float64\n",
      "HighGroupQuarters                int64\n",
      "GroupQuartersPopulation        float64\n",
      "GroupQuartersShare             float64\n",
      "LILA_UrbanHalf_Rural10           int64\n",
      "LILA_Urban1_Rural20              int64\n",
      "LILA_VehicleOr20Miles            int64\n",
      "LowVehicleAccess                 int64\n",
      "IsLowIncome                      int64\n",
      "PovertyRate                    float64\n",
      "MedianIncome                   float64\n",
      "LA_Urban1_Rural10                int64\n",
      "LA_UrbanHalf_Rural10             int64\n",
      "LA_Urban1_Rural20                int64\n",
      "LA_HalfMile                      int64\n",
      "LA_1Mile                         int64\n",
      "LA_10Miles                       int64\n",
      "LA_20Miles                       int64\n",
      "LA_VehicleOr20Miles              int64\n",
      "LAPop_HalfMile                 float64\n",
      "LAPopShare_HalfMile            float64\n",
      "LALowIncome_HalfMile           float64\n",
      "LALowIncomeShare_HalfMile      float64\n",
      "LAKids_HalfMile                float64\n",
      "LAKidsShare_HalfMile           float64\n",
      "LASeniors_HalfMile             float64\n",
      "LASeniorsShare_HalfMile        float64\n",
      "LAWhite_HalfMile               float64\n",
      "LAWhiteShare_HalfMile          float64\n",
      "LABlack_HalfMile               float64\n",
      "LABlackShare_HalfMile          float64\n",
      "LAAsian_HalfMile               float64\n",
      "LAAsianShare_HalfMile          float64\n",
      "LANHPI_HalfMile                float64\n",
      "LANHPIShare_HalfMile           float64\n",
      "LAAIAN_HalfMile                float64\n",
      "LAAIANShare_HalfMile           float64\n",
      "LAMultiracial_HalfMile         float64\n",
      "LAMultiracialShare_HalfMile    float64\n",
      "LAHispanic_HalfMile            float64\n",
      "LAHispanicShare_HalfMile       float64\n",
      "LANoVehicle_HalfMile           float64\n",
      "LANoVehicleShare_HalfMile      float64\n",
      "LASNAP_HalfMile                float64\n",
      "LASNAPShare_HalfMile           float64\n",
      "LAPop_1Mile                    float64\n",
      "LAPopShare_1Mile               float64\n",
      "LALowIncome_1Mile              float64\n",
      "LALowIncomeShare_1Mile         float64\n",
      "LAKids_1Mile                   float64\n",
      "LAKidsShare_1Mile              float64\n",
      "LASeniors_1Mile                float64\n",
      "LASeniorsShare_1Mile           float64\n",
      "LAWhite_1Mile                  float64\n",
      "LAWhiteShare_1Mile             float64\n",
      "LABlack_1Mile                  float64\n",
      "LABlackShare_1Mile             float64\n",
      "LAAsian_1Mile                  float64\n",
      "LAAsianShare_1Mile             float64\n",
      "LANHPI_1Mile                   float64\n",
      "LANHPIShare_1Mile              float64\n",
      "LAAIAN_1Mile                   float64\n",
      "LAAIANShare_1Mile              float64\n",
      "LAMultiracial_1Mile            float64\n",
      "LAMultiracialShare_1Mile       float64\n",
      "LAHispanic_1Mile               float64\n",
      "LAHispanicShare_1Mile          float64\n",
      "LANoVehicle_1Mile              float64\n",
      "LANoVehicleShare_1Mile         float64\n",
      "LASNAP_1Mile                   float64\n",
      "LASNAPShare_1Mile              float64\n",
      "LowIncomePopulation            float64\n",
      "ChildPopulation                float64\n",
      "SeniorPopulation               float64\n",
      "WhitePopulation                float64\n",
      "BlackPopulation                float64\n",
      "AsianPopulation                float64\n",
      "NHPIPopulation                 float64\n",
      "AIANPopulation                 float64\n",
      "MultiracialPopulation          float64\n",
      "HispanicPopulation             float64\n",
      "NoVehicleHouseholds            float64\n",
      "SNAPRecipients                 float64\n",
      "latitude                       float64\n",
      "longitude                      float64\n",
      "IsFoodDesert                     int64\n",
      "dtype: object\n"
     ]
    }
   ],
   "source": [
    "# Read in the data\n",
    "centroids_data = pd.read_csv(TABLE_DATA_PATH, dtype={'CensusTract': str})\n",
    "centroids_data.drop(columns=['state'], inplace=True) # state and State are duplicated columns\n",
    "\n",
    "# Rename the columns\n",
    "with open(RENAME_PATH, 'r') as f:\n",
    "    rename = json.load(f)\n",
    "\n",
    "rename_dict = {}\n",
    "for col in centroids_data.columns:\n",
    "    if col in rename.keys():\n",
    "         rename_dict[col] = rename[col]['simplifiedName']\n",
    "\n",
    "centroids_data.rename(columns=rename_dict, inplace=True)\n",
    "\n",
    "# Make sure the TractID column is properly converted to string type\n",
    "centroids_data['TractID'] = centroids_data['TractID'].astype(str).str.zfill(11)\n",
    "\n",
    "# Pad 10-digit GEOIDs to 11-digit strings\n",
    "centroids_data['GEOID'] = centroids_data['GEOID'].astype(str).str.zfill(11)\n",
    "\n",
    "# Define a function to classify tracts as food deserts\n",
    "def is_food_desert(row):\n",
    "    return 1 if (row[\"LILA_Urban1_Rural10\"] == 1) else 0\n",
    "\n",
    "# Create a new column in the DataFrame to indicate food deserts\n",
    "centroids_data[\"IsFoodDesert\"] = centroids_data.apply(is_food_desert, axis=1)\n",
    "\n",
    "# Drop unnecessary columns\n",
    "centroids_data.drop(columns=[\"CountyName\", \"LILA_Urban1_Rural10\", \"GEOID\"], inplace=True)\n",
    "\n",
    "# Drop columns with more than 50% missing values\n",
    "drop_columns_missing_proportion(centroids_data, 0.2)\n",
    "\n",
    "# Impute missing values using median number\n",
    "df = pd.DataFrame(centroids_data.isnull().sum(), columns=['Missing Value Count'])\n",
    "df['Proportion of Missing Values'] = df['Missing Value Count'] / len(centroids_data)\n",
    "cols_to_fill = df[df['Proportion of Missing Values'] > 0.006].index.tolist()\n",
    "\n",
    "# Impute missing values of Median Income with median value\n",
    "for col in cols_to_fill:\n",
    "    centroids_data[col].fillna(centroids_data[col].median(), inplace=True)\n",
    "\n",
    "# Change these columns to float type\n",
    "to_float_cols = [\n",
    "    \"Pop2010\",\n",
    "    \"OccupiedHousingUnits\",\n",
    "    \"GroupQuartersPopulation\",\n",
    "    \"LowIncomePopulation\",\n",
    "    \"ChildPopulation\",\n",
    "    \"SeniorPopulation\",\n",
    "    \"WhitePopulation\",\n",
    "    \"BlackPopulation\",\n",
    "    \"AsianPopulation\",\n",
    "    \"NHPIPopulation\",\n",
    "    \"AIANPopulation\",\n",
    "    \"MultiracialPopulation\",\n",
    "    \"HispanicPopulation\",\n",
    "    \"NoVehicleHouseholds\",\n",
    "    \"SNAPRecipients\"]\n",
    "centroids_data[to_float_cols] = centroids_data[to_float_cols].astype(float)\n",
    "\n",
    "# Print data types\n",
    "with pd.option_context('display.max_rows', None, 'display.max_columns', None):\n",
    "    print(centroids_data.dtypes)"
   ]
  },
  {
   "cell_type": "markdown",
   "metadata": {
    "id": "8RdUVvotiFMT"
   },
   "source": [
    "### 1.2 Reading In Training Images\n",
    "\n",
    "- Steps:\n",
    "    1. Split data but put it back as a data frame\n",
    "    2. Drop Columns\n",
    "    3. Do transformation but puck it back as a data frame\n",
    "    4. Load Images for training, validation, and testing set\n",
    "    5. Convert everything back to arrays\n"
   ]
  },
  {
   "cell_type": "code",
   "execution_count": 5,
   "metadata": {
    "id": "oj2RYR4Wkck4"
   },
   "outputs": [],
   "source": [
    "from tensorflow.keras.preprocessing.image import load_img, img_to_array\n",
    "\n",
    "\n",
    "def load_images_to_array(df, folder_path, image_size=(256, 256)):\n",
    "    '''\n",
    "    Match each row to its image using IsFoodDesert and TractID, then load images into a NumPy array.\n",
    "    Assumes image filenames are in the format: <IsFoodDesert>_<TractID>.jpg/png/jpeg\n",
    "    '''\n",
    "    image_arrays = []\n",
    "    unmatched = []\n",
    "\n",
    "    for i, row in df.iterrows():\n",
    "        filename = f\"{row['IsFoodDesert']}_{row['TractID']}\"\n",
    "\n",
    "        # Try all common image extensions\n",
    "        found = False\n",
    "        for ext in ['.jpg', '.jpeg', '.png']:\n",
    "            img_path = os.path.join(folder_path, row['StateName'], filename + ext)\n",
    "            if os.path.exists(img_path):\n",
    "                try:\n",
    "                    img = load_img(img_path, target_size=image_size)\n",
    "                    img_array = img_to_array(img).astype('float32') # / 255.0\n",
    "                    image_arrays.append(img_array)\n",
    "                    found = True\n",
    "                    break\n",
    "                except Exception as e:\n",
    "                    print(f\"Error loading image {img_path}: {e}\")\n",
    "                    image_arrays.append(None)\n",
    "                    found = True\n",
    "                    break  # Still break if file exists but failed to load\n",
    "\n",
    "        if not found:\n",
    "            unmatched.append(filename)\n",
    "            image_arrays.append(None)\n",
    "\n",
    "    if unmatched:\n",
    "        print(f\"⚠️ {len(unmatched)} images not found: {unmatched[:5]}{'...' if len(unmatched) > 5 else ''}\")\n",
    "\n",
    "    # Filter out None values (if needed)\n",
    "    valid_images = [img for img in image_arrays if img is not None]\n",
    "\n",
    "    return np.array(valid_images)"
   ]
  },
  {
   "cell_type": "markdown",
   "metadata": {
    "id": "cogMRGJ1kck4"
   },
   "source": [
    "### Data Transformation"
   ]
  },
  {
   "cell_type": "code",
   "execution_count": 6,
   "metadata": {
    "id": "hkLVcanpkck4"
   },
   "outputs": [],
   "source": [
    "from sklearn.preprocessing import StandardScaler\n",
    "from sklearn.compose import ColumnTransformer\n",
    "from sklearn.model_selection import train_test_split\n",
    "\n",
    "\n",
    "def split_transform(splits=(0.6, 0.2, 0.2)):\n",
    "    \"\"\"\n",
    "    1. Keep TractID and IsFoodDesert for image alignment and labels.\n",
    "    2. Drop non-feature columns only during transformation.\n",
    "    3. Return both raw and transformed sets for parallel use.\n",
    "    \"\"\"\n",
    "    df = centroids_data.copy()\n",
    "\n",
    "    # Preserve for image loading and label\n",
    "    y = df['IsFoodDesert']\n",
    "\n",
    "    # These columns will NOT be used for transformation\n",
    "    cols_to_exclude = ['latitude', 'longitude', 'IsFoodDesert', 'TractID', 'StateName']\n",
    "\n",
    "    # Subset features for transformation\n",
    "    features = df.drop(columns=cols_to_exclude)\n",
    "\n",
    "    # Identify feature types\n",
    "    numeric_features = features.select_dtypes(include=['float64']).columns.tolist()\n",
    "    binary_features = features.select_dtypes(include=['int64']).columns.tolist()\n",
    "    object_features = features.select_dtypes(include=['object']).columns.tolist()\n",
    "\n",
    "    preprocessor = ColumnTransformer(\n",
    "        transformers=[\n",
    "            ('num', StandardScaler(), numeric_features),\n",
    "            ('bin', 'passthrough', binary_features),\n",
    "            ('obj', 'passthrough', object_features)\n",
    "        ]\n",
    "    )\n",
    "\n",
    "    # Split raw dataframe for image and ID use\n",
    "    X_train_df, X_temp_df, y_train, y_temp = train_test_split(df, y, test_size=splits[1] + splits[2], random_state=RANDOM_CODE)\n",
    "    X_val_df, X_test_df, y_val, y_test = train_test_split(X_temp_df, y_temp, test_size=splits[2] / (splits[1] + splits[2]), random_state=RANDOM_CODE)\n",
    "\n",
    "    # Subset features for transformation\n",
    "    X_train_features = X_train_df.drop(columns=cols_to_exclude)\n",
    "    X_val_features = X_val_df.drop(columns=cols_to_exclude)\n",
    "    X_test_features = X_test_df.drop(columns=cols_to_exclude)\n",
    "\n",
    "    # Fit and transform\n",
    "    preprocessor.fit(X_train_features)\n",
    "    X_train_scaled = preprocessor.transform(X_train_features).astype(np.float32)\n",
    "    X_val_scaled = preprocessor.transform(X_val_features).astype(np.float32)\n",
    "    X_test_scaled = preprocessor.transform(X_test_features).astype(np.float32)\n",
    "\n",
    "    # Labels\n",
    "    y_train = y_train.astype(np.float32)\n",
    "    y_val = y_val.astype(np.float32)\n",
    "    y_test = y_test.astype(np.float32)\n",
    "\n",
    "    # Return both transformed features and raw split data for image access\n",
    "    return (\n",
    "        X_train_scaled, X_val_scaled, X_test_scaled,\n",
    "        X_train_df, X_val_df, X_test_df,  # for TractID and image lookup\n",
    "        y_train, y_val, y_test\n",
    "    )\n"
   ]
  },
  {
   "cell_type": "code",
   "execution_count": 7,
   "metadata": {
    "id": "3FFiEqqw9BIf",
    "outputId": "b7cadb20-87da-4743-efef-b9111db87e30"
   },
   "outputs": [
    {
     "name": "stdout",
     "output_type": "stream",
     "text": [
      "X_tab_train shape: (4272, 85)\n",
      "X_tab_val shape: (1424, 85)\n",
      "X_tab_test shape: (1425, 85)\n",
      "X_img_train shape: (4272, 256, 256, 3)\n",
      "X_img_val shape: (1424, 256, 256, 3)\n",
      "X_img_test shape: (1425, 256, 256, 3)\n"
     ]
    }
   ],
   "source": [
    "X_tab_train, X_tab_val, X_tab_test, \\\n",
    "X_train_df, X_val_df, X_test_df, \\\n",
    "y_train, y_val, y_test = split_transform()\n",
    "\n",
    "X_img_train = load_images_to_array(X_train_df, IMAGE_PATH)\n",
    "X_img_val = load_images_to_array(X_val_df, IMAGE_PATH)\n",
    "X_img_test = load_images_to_array(X_test_df, IMAGE_PATH)\n",
    "\n",
    "\n",
    "print(\"X_tab_train shape:\", X_tab_train.shape)\n",
    "print(\"X_tab_val shape:\", X_tab_val.shape)\n",
    "print(\"X_tab_test shape:\", X_tab_test.shape)\n",
    "print(\"X_img_train shape:\", X_img_train.shape)\n",
    "print(\"X_img_val shape:\", X_img_val.shape)\n",
    "print(\"X_img_test shape:\", X_img_test.shape)\n"
   ]
  },
  {
   "cell_type": "markdown",
   "metadata": {
    "id": "fzC-RLiH_b-o"
   },
   "source": [
    "## <span style=\"color:chocolate\">2. CNN Model Building</span>"
   ]
  },
  {
   "cell_type": "markdown",
   "metadata": {
    "id": "8eCoLtkXkck5"
   },
   "source": [
    "### CMM Model Creation"
   ]
  },
  {
   "cell_type": "code",
   "execution_count": 8,
   "metadata": {
    "id": "bQ_vFg4HnQt5"
   },
   "outputs": [
    {
     "name": "stdout",
     "output_type": "stream",
     "text": [
      "Using TensorFlow backend\n"
     ]
    }
   ],
   "source": [
    "import tensorflow as tf\n",
    "import keras_tuner as kt\n",
    "from tensorflow.keras import models, layers, Input, Model\n",
    "\n",
    "# Build CNN model\n",
    "def create_cnn_model(image_input_shape, tabular_input_shape):\n",
    "\n",
    "    tf.keras.backend.clear_session()\n",
    "    tf.random.set_seed(RANDOM_CODE)\n",
    "\n",
    "    # Image input branch (CNN)\n",
    "    image_input = Input(shape=image_input_shape)\n",
    "\n",
    "    x = layers.Rescaling(1./255)(image_input)\n",
    "    x = layers.Conv2D(32, (3,3), activation='relu', padding='same')(x)\n",
    "    x = layers.MaxPooling2D((2,2))(x)\n",
    "\n",
    "    x = layers.Conv2D(64, (3,3), activation='relu', padding='same')(x)\n",
    "    x = layers.MaxPooling2D((2,2))(x)\n",
    "\n",
    "    x = layers.Conv2D(128, (3,3), activation='relu', padding='same')(x)\n",
    "    x = layers.GlobalAveragePooling2D()(x)\n",
    "\n",
    "    x = layers.Dense(64, activation='relu')(x)\n",
    "    image_branch = layers.Dropout(0.5)(x)\n",
    "\n",
    "    # Tabular input branch (MLP)\n",
    "    tabular_input = Input(shape=tabular_input_shape)\n",
    "    y = layers.Dense(64, activation='relu')(tabular_input)\n",
    "    # y = layers.BatchNormalization()(y)\n",
    "    y = layers.Dropout(0.3)(y)\n",
    "    y = layers.Dense(32, activation='relu')(y)\n",
    "    tabular_branch = layers.Dropout(0.3)(y)\n",
    "\n",
    "    # Combine both\n",
    "    combined = layers.concatenate([image_branch, tabular_branch])\n",
    "    z = layers.Dense(64, activation='relu')(combined)\n",
    "    z = layers.Dropout(0.4)(z)\n",
    "    output = layers.Dense(1, activation='sigmoid')(z)\n",
    "\n",
    "    model = Model(inputs=[image_input, tabular_input], outputs=output)\n",
    "    model.compile(optimizer='adam',\n",
    "                loss='binary_crossentropy',\n",
    "                metrics=['accuracy'])\n",
    "\n",
    "    return model\n"
   ]
  },
  {
   "cell_type": "markdown",
   "metadata": {
    "id": "qNjAzinmkck5"
   },
   "source": [
    "### Model Implementation"
   ]
  },
  {
   "cell_type": "code",
   "execution_count": 9,
   "metadata": {
    "colab": {
     "base_uri": "https://localhost:8080/"
    },
    "executionInfo": {
     "elapsed": 252188,
     "status": "ok",
     "timestamp": 1753912360552,
     "user": {
      "displayName": "Yu-Sheng Lee",
      "userId": "03813195294060258657"
     },
     "user_tz": 420
    },
    "id": "NyvM79EE_b-q",
    "outputId": "d0735b84-2bd1-402f-c570-f56fa3be7653"
   },
   "outputs": [
    {
     "name": "stderr",
     "output_type": "stream",
     "text": [
      "2025-08-04 13:49:55.061980: I metal_plugin/src/device/metal_device.cc:1154] Metal device set to: Apple M1\n",
      "2025-08-04 13:49:55.062011: I metal_plugin/src/device/metal_device.cc:296] systemMemory: 16.00 GB\n",
      "2025-08-04 13:49:55.062020: I metal_plugin/src/device/metal_device.cc:313] maxCacheSize: 5.33 GB\n",
      "2025-08-04 13:49:55.062248: I tensorflow/core/common_runtime/pluggable_device/pluggable_device_factory.cc:306] Could not identify NUMA node of platform GPU ID 0, defaulting to 0. Your kernel may not have been built with NUMA support.\n",
      "2025-08-04 13:49:55.062273: I tensorflow/core/common_runtime/pluggable_device/pluggable_device_factory.cc:272] Created TensorFlow device (/job:localhost/replica:0/task:0/device:GPU:0 with 0 MB memory) -> physical PluggableDevice (device: 0, name: METAL, pci bus id: <undefined>)\n"
     ]
    },
    {
     "name": "stdout",
     "output_type": "stream",
     "text": [
      "Epoch 1/20\n"
     ]
    },
    {
     "name": "stderr",
     "output_type": "stream",
     "text": [
      "2025-08-04 13:50:02.789534: I tensorflow/core/grappler/optimizers/custom_graph_optimizer_registry.cc:117] Plugin optimizer for device_type GPU is enabled.\n"
     ]
    },
    {
     "name": "stdout",
     "output_type": "stream",
     "text": [
      "134/134 [==============================] - 33s 233ms/step - loss: 0.4620 - accuracy: 0.7912 - val_loss: 0.2344 - val_accuracy: 0.9221\n",
      "Epoch 2/20\n",
      "134/134 [==============================] - 28s 206ms/step - loss: 0.2193 - accuracy: 0.9082 - val_loss: 0.0554 - val_accuracy: 0.9909\n",
      "Epoch 3/20\n",
      "134/134 [==============================] - 27s 205ms/step - loss: 0.1065 - accuracy: 0.9583 - val_loss: 0.0362 - val_accuracy: 0.9930\n",
      "Epoch 4/20\n",
      "134/134 [==============================] - 28s 206ms/step - loss: 0.0358 - accuracy: 0.9860 - val_loss: 0.0104 - val_accuracy: 0.9972\n",
      "Epoch 5/20\n",
      "134/134 [==============================] - 28s 210ms/step - loss: 0.0357 - accuracy: 0.9878 - val_loss: 0.0034 - val_accuracy: 0.9993\n",
      "Epoch 6/20\n",
      "134/134 [==============================] - 28s 209ms/step - loss: 0.0301 - accuracy: 0.9923 - val_loss: 0.0213 - val_accuracy: 0.9951\n",
      "Epoch 7/20\n",
      "134/134 [==============================] - 28s 212ms/step - loss: 0.0249 - accuracy: 0.9937 - val_loss: 0.0083 - val_accuracy: 0.9972\n",
      "Epoch 8/20\n",
      "134/134 [==============================] - 28s 209ms/step - loss: 0.0113 - accuracy: 0.9958 - val_loss: 0.0029 - val_accuracy: 0.9986\n",
      "Epoch 9/20\n",
      "134/134 [==============================] - 28s 208ms/step - loss: 0.0060 - accuracy: 0.9981 - val_loss: 5.7735e-04 - val_accuracy: 1.0000\n",
      "Epoch 10/20\n",
      "134/134 [==============================] - 30s 226ms/step - loss: 0.0156 - accuracy: 0.9932 - val_loss: 2.6750e-04 - val_accuracy: 1.0000\n",
      "Epoch 11/20\n",
      "134/134 [==============================] - 28s 211ms/step - loss: 0.0154 - accuracy: 0.9944 - val_loss: 0.0011 - val_accuracy: 0.9993\n",
      "Epoch 12/20\n",
      "134/134 [==============================] - 35s 259ms/step - loss: 0.0234 - accuracy: 0.9930 - val_loss: 0.0213 - val_accuracy: 0.9937\n",
      "Epoch 13/20\n",
      "134/134 [==============================] - 30s 225ms/step - loss: 0.0213 - accuracy: 0.9951 - val_loss: 1.0801e-04 - val_accuracy: 1.0000\n",
      "Epoch 14/20\n",
      "134/134 [==============================] - 34s 252ms/step - loss: 0.0220 - accuracy: 0.9932 - val_loss: 0.0113 - val_accuracy: 0.9972\n",
      "Epoch 15/20\n",
      "134/134 [==============================] - 33s 244ms/step - loss: 0.0519 - accuracy: 0.9906 - val_loss: 2.6640e-04 - val_accuracy: 1.0000\n",
      "Epoch 16/20\n",
      "134/134 [==============================] - ETA: 0s - loss: 0.0376 - accuracy: 0.9920Restoring model weights from the end of the best epoch: 13.\n",
      "134/134 [==============================] - 37s 274ms/step - loss: 0.0376 - accuracy: 0.9920 - val_loss: 1.1148e-04 - val_accuracy: 1.0000\n",
      "Epoch 16: early stopping\n"
     ]
    }
   ],
   "source": [
    "from sklearn.utils.class_weight import compute_class_weight\n",
    "\n",
    "# train the model\n",
    "model = create_cnn_model(image_input_shape= (256, 256, 3), tabular_input_shape=(X_tab_train.shape[1],))\n",
    "\n",
    "early_stopping = tf.keras.callbacks.EarlyStopping(\n",
    "    monitor='val_loss',\n",
    "    verbose=1,\n",
    "    patience=3,\n",
    "    mode='min',\n",
    "    restore_best_weights=True\n",
    ")\n",
    "\n",
    "weights = compute_class_weight(class_weight='balanced',\n",
    "                                classes=np.unique(y_train),\n",
    "                                y=y_train)\n",
    "class_weight = dict(enumerate(weights))\n",
    "\n",
    "\n",
    "history = model.fit(\n",
    "    x=[X_img_train, X_tab_train],\n",
    "    y=y_train,\n",
    "    validation_data=([X_img_val, X_tab_val], y_val),\n",
    "    batch_size=32,\n",
    "    epochs=20,\n",
    "    class_weight=class_weight,\n",
    "    callbacks=[early_stopping]\n",
    ")"
   ]
  },
  {
   "cell_type": "markdown",
   "metadata": {
    "id": "ocVb-8bmkck6"
   },
   "source": [
    "### Model Evaluation - Training and Validation"
   ]
  },
  {
   "cell_type": "code",
   "execution_count": 10,
   "metadata": {
    "colab": {
     "base_uri": "https://localhost:8080/",
     "height": 542
    },
    "executionInfo": {
     "elapsed": 2648,
     "status": "ok",
     "timestamp": 1753912373188,
     "user": {
      "displayName": "Yu-Sheng Lee",
      "userId": "03813195294060258657"
     },
     "user_tz": 420
    },
    "id": "4D4MEby7pRTg",
    "outputId": "d0fef9e1-7b67-433a-8c0e-80ae79dfd6ef"
   },
   "outputs": [
    {
     "name": "stdout",
     "output_type": "stream",
     "text": [
      "dict_keys(['loss', 'accuracy', 'val_loss', 'val_accuracy'])\n"
     ]
    },
    {
     "data": {
      "image/png": "[encoded data removed]",
      "text/plain": [
       "<Figure size 1200x500 with 2 Axes>"
      ]
     },
     "metadata": {},
     "output_type": "display_data"
    }
   ],
   "source": [
    "print(history.history.keys())\n",
    "\n",
    "# draw the training and validation loss and accuracy\n",
    "plt.figure(figsize=(12, 5))\n",
    "\n",
    "# Loss\n",
    "plt.subplot(1, 2, 1)\n",
    "plt.plot(history.history['loss'], label='Train Loss')\n",
    "plt.plot(history.history['val_loss'], label='Validation Loss')\n",
    "plt.title('Loss')\n",
    "plt.xlabel('Epochs')\n",
    "plt.ylabel('Loss')\n",
    "plt.legend()\n",
    "\n",
    "# Accuracy\n",
    "plt.subplot(1, 2, 2)\n",
    "plt.plot(history.history['accuracy'], label='Train Accuracy')\n",
    "plt.plot(history.history['val_accuracy'], label='Validation Accuracy')\n",
    "plt.title('Accuracy')\n",
    "plt.xlabel('Epochs')\n",
    "plt.ylabel('Accuracy')\n",
    "plt.legend()\n",
    "\n",
    "plt.tight_layout()\n",
    "plt.show()\n"
   ]
  },
  {
   "cell_type": "code",
   "execution_count": 11,
   "metadata": {
    "colab": {
     "base_uri": "https://localhost:8080/"
    },
    "executionInfo": {
     "elapsed": 12401,
     "status": "ok",
     "timestamp": 1753912390390,
     "user": {
      "displayName": "Yu-Sheng Lee",
      "userId": "03813195294060258657"
     },
     "user_tz": 420
    },
    "id": "wmvUoOTGo2rm",
    "outputId": "7520119f-07d4-4659-82c6-cf79b299f2a6"
   },
   "outputs": [
    {
     "name": "stdout",
     "output_type": "stream",
     "text": [
      "45/45 [==============================] - 3s 67ms/step - loss: 3.8939e-04 - accuracy: 1.0000\n",
      "Test Loss: 0.0004\n",
      "Test Accuracy: 1.0000\n",
      "45/45 [==============================] - 3s 63ms/step\n",
      "              precision    recall  f1-score   support\n",
      "\n",
      "         0.0       1.00      1.00      1.00      1120\n",
      "         1.0       1.00      1.00      1.00       305\n",
      "\n",
      "    accuracy                           1.00      1425\n",
      "   macro avg       1.00      1.00      1.00      1425\n",
      "weighted avg       1.00      1.00      1.00      1425\n",
      "\n"
     ]
    }
   ],
   "source": [
    "from sklearn.metrics import classification_report, confusion_matrix, roc_auc_score\n",
    "\n",
    "# Evaluate the model\n",
    "test_loss, test_accuracy = model.evaluate([X_img_test, X_tab_test], y_test, verbose=1)\n",
    "print(f\"Test Loss: {test_loss:.4f}\")\n",
    "print(f\"Test Accuracy: {test_accuracy:.4f}\")\n",
    "\n",
    "# Generate predictions\n",
    "y_pred_probs = model.predict([X_img_test, X_tab_test]).flatten()\n",
    "y_pred = (y_pred_probs > 0.5).astype(int)\n",
    "print(classification_report(y_test, y_pred))\n",
    "\n"
   ]
  },
  {
   "cell_type": "code",
   "execution_count": 12,
   "metadata": {
    "colab": {
     "base_uri": "https://localhost:8080/",
     "height": 594
    },
    "executionInfo": {
     "elapsed": 7493,
     "status": "ok",
     "timestamp": 1753912405972,
     "user": {
      "displayName": "Yu-Sheng Lee",
      "userId": "03813195294060258657"
     },
     "user_tz": 420
    },
    "id": "8IkAFCloQtaz",
    "outputId": "0fc2c3d9-1e50-433c-b985-698460392d16"
   },
   "outputs": [
    {
     "name": "stdout",
     "output_type": "stream",
     "text": [
      "Confusion Matrix:\n",
      "[[1120    0]\n",
      " [   0  305]]\n"
     ]
    },
    {
     "data": {
      "image/png": "[encoded data removed]",
      "text/plain": [
       "<Figure size 640x480 with 2 Axes>"
      ]
     },
     "metadata": {},
     "output_type": "display_data"
    },
    {
     "name": "stdout",
     "output_type": "stream",
     "text": [
      "Training Data Results:\n",
      "True Positives training (TP): 305\n",
      "False Negatives training(FN): 0\n",
      "False Positives traniing(FP): 0\n",
      "True Negatives traniing(TN): 1120\n",
      "The test precision is 1.00.\n",
      "The test recall is 1.00.\n",
      "The F1 score is 1.0.\n"
     ]
    }
   ],
   "source": [
    "from sklearn.metrics import confusion_matrix, ConfusionMatrixDisplay, f1_score\n",
    "\n",
    "# Confusion Matrix\n",
    "cm = confusion_matrix(y_test, y_pred)\n",
    "print(\"Confusion Matrix:\")\n",
    "print(cm)\n",
    "table_validation= ConfusionMatrixDisplay(confusion_matrix=cm, display_labels=['Non-Food Desert', 'Food Desert']) \n",
    "table_validation.plot()\n",
    "table_validation.ax_.set_title('Test Confusion Matrix')\n",
    "plt.show()\n",
    "\n",
    "TN, FP, FN, TP = cm.ravel()\n",
    "print(\"Training Data Results:\")\n",
    "print(f\"True Positives training (TP): {TP}\")\n",
    "print(f\"False Negatives training(FN): {FN}\")\n",
    "print(f\"False Positives traniing(FP): {FP}\")\n",
    "print(f\"True Negatives traniing(TN): {TN}\")\n",
    "\n",
    "# Precision is how often the model is correct when predicting food deserts\n",
    "precision_test = TP/(TP+FP)\n",
    "\n",
    "# Recall is whether the model can find all food deserts\n",
    "recall_test = TP/(TP+FN)\n",
    "\n",
    "print(f\"The test precision is {precision_test:.2f}.\")\n",
    "print(f\"The test recall is {recall_test:.2f}.\")\n",
    "print(f\"The F1 score is {f1_score(y_test, y_pred)}.\")\n"
   ]
  },
  {
   "cell_type": "code",
   "execution_count": 13,
   "metadata": {
    "id": "B7SwltS-F1ID",
    "outputId": "f0b0e1f3-9dac-4e8a-b853-c47d3ac786df"
   },
   "outputs": [
    {
     "data": {
      "text/plain": [
       "<Figure size 1500x0 with 0 Axes>"
      ]
     },
     "metadata": {},
     "output_type": "display_data"
    }
   ],
   "source": [
    "# Convert X_val back to [0, 255] for visualization\n",
    "X_img_test_display = (X_img_test).astype(np.uint8)\n",
    "\n",
    "# index of wrong misclassification in test set\n",
    "misclassified_idx = np.where(y_pred != y_test)[0]\n",
    "misclassified_imgs = X_img_test_display[misclassified_idx]\n",
    "misclassified_labels = y_val[misclassified_idx]\n",
    "predicted_labels = y_pred[misclassified_idx]\n",
    "\n",
    "plt.figure(figsize=(15, len(misclassified_imgs) * 3 // 5))\n",
    "\n",
    "for i in range(len(misclassified_imgs)):\n",
    "    plt.subplot((len(misclassified_imgs) + 4) // 5, 5, i + 1)\n",
    "    plt.imshow(misclassified_imgs[i])\n",
    "    plt.title(f\"True: {misclassified_labels[i]}, Pred: {predicted_labels[i]}\")\n",
    "    plt.axis('off')\n",
    "\n",
    "plt.tight_layout()\n",
    "plt.show()\n"
   ]
  },
  {
   "cell_type": "code",
   "execution_count": null,
   "metadata": {
    "id": "XudyLe7dwRL7"
   },
   "outputs": [],
   "source": [
    "# # One-Off thing to rename Arkansas and Alabama images\n",
    "# import os\n",
    "\n",
    "# states = ['Arkansas', 'Alabama']\n",
    "# data_path = 'Data/Pictures/'\n",
    "\n",
    "# for state in states:\n",
    "#     state_path = os.path.join(data_path, state)\n",
    "#     if os.path.exists(state_path):\n",
    "#         for filename in os.listdir(state_path):\n",
    "#             if filename.lower().endswith(('.png', '.jpg', '.jpeg')):\n",
    "#                 file_base, file_ext = os.path.splitext(filename)\n",
    "#                 try:\n",
    "#                     parts = file_base.split(\"_\")\n",
    "#                     if len(parts) == 2:\n",
    "#                         label, tract_id = parts\n",
    "#                         padded_tract_id = tract_id.zfill(11)\n",
    "#                         new_filename = f\"{label}_{padded_tract_id}{file_ext}\"\n",
    "#                         old_filepath = os.path.join(state_path, filename)\n",
    "#                         new_filepath = os.path.join(state_path, new_filename)\n",
    "#                         if old_filepath != new_filepath:\n",
    "#                             os.rename(old_filepath, new_filepath)\n",
    "#                             print(f\"Renamed '{filename}' to '{new_filename}'\")\n",
    "#                     else:\n",
    "#                         print(f\"Skipping file with unexpected format: {filename}\")\n",
    "#                 except Exception as e:\n",
    "#                     print(f\"Error processing file {filename}: {e}\")\n",
    "#     else:\n",
    "#         print(f\"State folder not found: {state_path}\")"
   ]
  }
 ],
 "metadata": {
  "colab": {
   "machine_shape": "hm",
   "provenance": []
  },
  "kernelspec": {
   "display_name": "tf_env",
   "language": "python",
   "name": "python3"
  },
  "language_info": {
   "codemirror_mode": {
    "name": "ipython",
    "version": 3
   },
   "file_extension": ".py",
   "mimetype": "text/x-python",
   "name": "python",
   "nbconvert_exporter": "python",
   "pygments_lexer": "ipython3",
   "version": "3.9.6"
  }
 },
 "nbformat": 4,
 "nbformat_minor": 0
}
