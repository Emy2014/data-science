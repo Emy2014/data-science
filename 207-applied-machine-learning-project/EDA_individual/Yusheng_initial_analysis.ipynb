{
 "cells": [
  {
   "cell_type": "markdown",
   "id": "83806ab2-46ff-49b7-985c-bcc68b143858",
   "metadata": {
    "id": "83806ab2-46ff-49b7-985c-bcc68b143858"
   },
   "source": [
    "## Project Goals ##\n",
    "\n",
    "Github Repo: https://github.com/singhprernap/ucb_mids_207_Final_Project_Food_Deserts/tree/clyde"
   ]
  },
  {
   "cell_type": "code",
   "execution_count": null,
   "id": "169822e3-18bd-422e-a81b-22859efabb8a",
   "metadata": {
    "executionInfo": {
     "elapsed": 5924,
     "status": "ok",
     "timestamp": 1748988217278,
     "user": {
      "displayName": "Yu-Sheng Lee",
      "userId": "03813195294060258657"
     },
     "user_tz": 420
    },
    "id": "169822e3-18bd-422e-a81b-22859efabb8a"
   },
   "outputs": [],
   "source": [
    "# %pip install --quiet geopandas\n",
    "\n",
    "# import libraries\n",
    "import re\n",
    "import os\n",
    "import json\n",
    "import pandas as pd\n",
    "import numpy as np\n",
    "import seaborn as sns\n",
    "\n",
    "import matplotlib.pyplot as plt\n",
    "import tempfile\n",
    "import urllib.request\n",
    "import zipfile\n",
    "\n",
    "import geopandas as gpd\n",
    "import plotly.express as px\n"
   ]
  },
  {
   "cell_type": "code",
   "execution_count": null,
   "id": "6c4a2e20-0027-47f5-af68-17b590634740",
   "metadata": {
    "colab": {
     "base_uri": "https://localhost:8080/",
     "height": 35
    },
    "executionInfo": {
     "elapsed": 27,
     "status": "ok",
     "timestamp": 1748988220321,
     "user": {
      "displayName": "Yu-Sheng Lee",
      "userId": "03813195294060258657"
     },
     "user_tz": 420
    },
    "id": "6c4a2e20-0027-47f5-af68-17b590634740",
    "outputId": "e21bacf4-dd55-4ba4-8c4e-b1115219a1db"
   },
   "outputs": [],
   "source": [
    "%pwd"
   ]
  },
  {
   "cell_type": "code",
   "execution_count": null,
   "id": "18fa6d03-bbf1-48d4-abab-0a9df2331e12",
   "metadata": {
    "id": "18fa6d03-bbf1-48d4-abab-0a9df2331e12",
    "outputId": "8420a063-5811-479b-abd8-ca47d7566fbb"
   },
   "outputs": [],
   "source": [
    "centroids_data = pd.read_csv(\"Data/regional_combined_centroids.csv\")\n",
    "centroids_data.head()"
   ]
  },
  {
   "cell_type": "code",
   "execution_count": null,
   "id": "2917e65c-f1dc-4361-b419-5da9907babef",
   "metadata": {
    "id": "2917e65c-f1dc-4361-b419-5da9907babef",
    "outputId": "7a643567-ce6b-4670-f651-21a9d1f89a75"
   },
   "outputs": [],
   "source": [
    "# Look at shape of data\n",
    "centroids_data.shape"
   ]
  },
  {
   "cell_type": "code",
   "execution_count": null,
   "id": "49dd8093",
   "metadata": {},
   "outputs": [],
   "source": [
    "# Rename the columns\n",
    "with open(\"Data/rename.json\", 'r') as f:\n",
    "    rename = json.load(f)\n",
    "\n",
    "rename_dict = {}\n",
    "for col in centroids_data.columns:\n",
    "    if col in rename.keys():\n",
    "         rename_dict[col] = rename[col]['simplifiedName']\n",
    "\n",
    "centroids_data.rename(columns=rename_dict, inplace=True)"
   ]
  },
  {
   "cell_type": "code",
   "execution_count": null,
   "id": "330c99c0",
   "metadata": {},
   "outputs": [],
   "source": [
    "centroids_data.to_excel(\"Data/test.xlsx\", index=False)"
   ]
  },
  {
   "cell_type": "markdown",
   "id": "b3492edd-509e-476f-a5e5-092aa0101f20",
   "metadata": {
    "id": "b3492edd-509e-476f-a5e5-092aa0101f20"
   },
   "source": [
    "## EDA"
   ]
  },
  {
   "cell_type": "code",
   "execution_count": null,
   "id": "96da7c3e-e06a-4711-8ea7-82c760d11304",
   "metadata": {
    "id": "96da7c3e-e06a-4711-8ea7-82c760d11304"
   },
   "outputs": [],
   "source": [
    "# subset data to look at specific features\n",
    "selected_centroids_data = centroids_data[[\n",
    "    \"TractID\",\n",
    "    \"StateName\",\n",
    "    \"CountyName\",\n",
    "    \"IsUrban\",\n",
    "    # \"Pop2010\",\n",
    "    \"LILA_Urban1_Rural10\",\n",
    "    \"LILA_UrbanHalf_Rural10\",\n",
    "    \"LILA_Urban1_Rural20\",\n",
    "    \"LILA_VehicleOr20Miles\",\n",
    "    \"IsLowIncome\",\n",
    "    # \"PovertyRate\",\n",
    "    # \"MedianIncome\",\n",
    "    \"LA_Urban1_Rural10\",\n",
    "    # \"LAPopShare_1Mile\",\n",
    "    # \"LALowIncomeShare_1Mile\",\n",
    "    # \"LAPopShare_10Miles\",\n",
    "    # \"LALowIncomeShare_10Miles\",\n",
    "    # \"LowIncomePopulation\",\n",
    "    \"GEOID\",\n",
    "    \"latitude\",\n",
    "    \"longitude\",\n",
    "    \"state\"]]"
   ]
  },
  {
   "cell_type": "markdown",
   "id": "fb8f477a",
   "metadata": {},
   "source": [
    "- `LAPopShare_10Miles` and `LALowIncomeShare_10Miles` have lots of missing values and may not be useful\n",
    "\n",
    "- According to [USDA's definitions of food desert](https://extension.unr.edu/publication.aspx?PubID=2484):\n",
    "    - Low Income Community:\n",
    "        - This research specific: 40% population have an income <= 200% of federal poverty thresholds for family size\n",
    "        - (USDA definition: poverty rate >= 20%, or a median family income <= 80% the statewide median family income)\n",
    "        - IsLowIncome = 1\n",
    "    - Low Access Community:\n",
    "        - urban tract: >=33% population living more than 1 mile from a supermarket or grocery store\n",
    "            - IsUrban = 1 and (LILA_Urban1_Rural10 = 1 or LILA_UrbanHalf_Rural10 = 1)\n",
    "        - rural tract: >=33% population living more than 10 mile from a supermarket or grocery store\n",
    "            - IsUrban = 0 and LILA_Urban1_Rural10 = 1\n",
    "        - \\>=100 households are more than 0.5 mile from a supermarket and no vehicle access,\n",
    "        - or >= 500 people or 33% population live >=20% from a supermarket\n",
    "            - LILA_VehicleOr20Miles = 1\n"
   ]
  },
  {
   "cell_type": "code",
   "execution_count": null,
   "id": "18ace192",
   "metadata": {},
   "outputs": [],
   "source": [
    "# Define a function to classify tracts as food deserts\n",
    "def is_food_desert(row):\n",
    "    is_low_income = row[\"IsLowIncome\"] == 1\n",
    "    is_low_access = False\n",
    "\n",
    "    if row[\"IsUrban\"] == 1:\n",
    "        # Urban area: > 1 mile\n",
    "        is_low_access = (\n",
    "            row[\"LILA_Urban1_Rural10\"] == 1 or\n",
    "            row[\"LILA_UrbanHalf_Rural10\"] == 1\n",
    "        )\n",
    "    else:\n",
    "        # Rural area: > 10 miles\n",
    "        is_low_access = row[\"LILA_Urban1_Rural10\"] == 1\n",
    "\n",
    "    # Optional vehicle or 20-mile access issue\n",
    "    if row[\"LILA_VehicleOr20Miles\"] == 1:\n",
    "        is_low_access = True\n",
    "\n",
    "    return 1 if is_low_income and is_low_access else 0\n"
   ]
  },
  {
   "cell_type": "code",
   "execution_count": null,
   "id": "9692c6b9",
   "metadata": {},
   "outputs": [],
   "source": [
    "# Create a new column in the DataFrame to indicate food deserts\n",
    "selected_centroids_data[\"IsFoodDesert\"] = selected_centroids_data.apply(is_food_desert, axis=1)\n",
    "selected_centroids_data.head()"
   ]
  },
  {
   "cell_type": "code",
   "execution_count": null,
   "id": "0b04a223-acc8-48ba-849b-5afe84049a8b",
   "metadata": {
    "id": "0b04a223-acc8-48ba-849b-5afe84049a8b",
    "outputId": "2101d725-0338-4578-cc43-ccb34ce21009"
   },
   "outputs": [],
   "source": [
    "# Check class distribution\n",
    "# Extract specific colors from Set2 palette\n",
    "color_dict = {0: '#71cae3',  # muted turquoise\n",
    "              1: '#54a166'}  # muted green\n",
    "\n",
    "plt.figure(figsize=(6, 4))\n",
    "sns.countplot(x=selected_centroids_data[\"IsFoodDesert\"],\n",
    "              palette=color_dict,  # Use your custom color dictionary\n",
    "              hue=selected_centroids_data[\"IsFoodDesert\"]  # Use the same dataframe as x\n",
    "              )  # Properly pass legend parameter\n",
    "\n",
    "plt.title(\"Class Distribution of Target Variable\")\n",
    "plt.xlabel(\"Target Class\")\n",
    "plt.ylabel(\"Count\")\n",
    "\n",
    "# Save the plot to a file\n",
    "# plt.savefig(\"/Image/class_dist_plot.png\")\n",
    "plt.show()\n",
    "\n",
    "# Print class percentages\n",
    "class_counts = selected_centroids_data[\"IsFoodDesert\"].value_counts(normalize=True) * 100\n",
    "print(\"Class Distribution (%):\\n\", class_counts)\n"
   ]
  },
  {
   "cell_type": "code",
   "execution_count": null,
   "id": "2dcb8756-8943-4e27-ad56-729c83a5e9e9",
   "metadata": {
    "id": "2dcb8756-8943-4e27-ad56-729c83a5e9e9",
    "outputId": "ea339d92-51ea-4c20-8d8e-a174ad7d5b5c"
   },
   "outputs": [],
   "source": [
    "# Make sure the TractID column is properly converted to string type\n",
    "selected_centroids_data.loc[:,'TractID'] = selected_centroids_data.loc[:,'TractID'].apply(lambda x: str(x))"
   ]
  },
  {
   "cell_type": "code",
   "execution_count": null,
   "id": "19f6b6b3-7bcb-4e78-a8ab-2afb3eb9647a",
   "metadata": {
    "id": "19f6b6b3-7bcb-4e78-a8ab-2afb3eb9647a",
    "outputId": "c0bb0588-08d0-4e5a-ddac-30fa1b30bcd5"
   },
   "outputs": [],
   "source": [
    "selected_centroids_data.info() # check that there are no null values and all datatypes are correct"
   ]
  },
  {
   "cell_type": "code",
   "execution_count": null,
   "id": "6879e9fc-1aac-4d58-befa-5a087b340cd4",
   "metadata": {
    "id": "6879e9fc-1aac-4d58-befa-5a087b340cd4",
    "outputId": "c13c6f38-17e1-4029-f59d-18adf6b74c78"
   },
   "outputs": [],
   "source": [
    "selected_centroids_data.describe()"
   ]
  },
  {
   "cell_type": "code",
   "execution_count": null,
   "id": "67fd5443-22f8-42b0-9caf-405982b33cca",
   "metadata": {
    "id": "67fd5443-22f8-42b0-9caf-405982b33cca",
    "outputId": "97f97ba8-690f-4407-ef66-1e9c02ad31c6"
   },
   "outputs": [],
   "source": [
    "# Look at distribution of numeric feature vars\n",
    "# Select numerical columns\n",
    "numeric_cols = selected_centroids_data.select_dtypes(include=['float64', 'int64']).columns\n",
    "\n",
    "# Plot histograms\n",
    "selected_centroids_data[numeric_cols].hist(figsize=(12,10), bins=30, edgecolor='black', alpha=0.7)\n",
    "plt.suptitle(\"Feature Distributions\", fontsize=14)\n",
    "plt.show()"
   ]
  },
  {
   "cell_type": "code",
   "execution_count": null,
   "id": "eb2d9002",
   "metadata": {},
   "outputs": [],
   "source": [
    "urban_counts = selected_centroids_data[\"IsUrban\"].value_counts(normalize=True).reset_index().sort_values(by=\"IsUrban\", ascending=True)\n",
    "urban_counts.columns = [\"IsUrban\", \"Percentage\"]\n",
    "\n",
    "# If IsUrban is 0/1, make it more readable\n",
    "label_map = {0: \"Rural\", 1: \"Urban\"}\n",
    "urban_counts[\"Label\"] = urban_counts[\"IsUrban\"].map(label_map)\n",
    "\n",
    "# Set index to Label for easier plotting\n",
    "urban_counts.set_index(\"Label\", inplace=True)\n",
    "\n",
    "# Plot\n",
    "ax = urban_counts[\"Percentage\"].plot(\n",
    "    kind=\"bar\",\n",
    "    color=[color_dict[0], color_dict[1]],\n",
    "    ylim=(0, 1),\n",
    "    legend=False\n",
    ")\n",
    "\n",
    "# Title and axis formatting\n",
    "plt.title(\"Distribution of Urban vs Rural Tracts\")\n",
    "plt.xlabel(\"Tract Type\")\n",
    "plt.ylabel(\"Percentage\")\n",
    "ax.yaxis.set_major_formatter(plt.matplotlib.ticker.PercentFormatter(1))\n",
    "\n",
    "# Add text labels on top of bars\n",
    "for i, pct in enumerate(urban_counts[\"Percentage\"]):\n",
    "    ax.text(\n",
    "        i,\n",
    "        pct + 0.02,\n",
    "        f\"{pct:.1%}\",\n",
    "        ha='center',\n",
    "        va='bottom',\n",
    "        fontsize=10\n",
    "    )\n",
    "\n",
    "plt.tight_layout()\n",
    "plt.show()\n"
   ]
  },
  {
   "cell_type": "code",
   "execution_count": null,
   "id": "029445ef",
   "metadata": {},
   "outputs": [],
   "source": [
    "# Plot 2: IsFoodDesert percentage\n",
    "fd_counts = selected_centroids_data[\"IsFoodDesert\"].value_counts(normalize=True).reset_index()\n",
    "fd_counts.columns = [\"IsFoodDesert\", \"Percentage\"]\n",
    "\n",
    "ax = sns.barplot(\n",
    "    data=fd_counts,\n",
    "    x=\"IsFoodDesert\",\n",
    "    y=\"Percentage\",\n",
    "    palette=[color_dict[i] for i in fd_counts[\"IsFoodDesert\"]]\n",
    ")\n",
    "plt.title(\"Distribution of Food Desert vs Non-Food Desert Tracts\")\n",
    "plt.xticks([0, 1], [\"Not Food Desert\", \"Food Desert\"])\n",
    "plt.xlabel(\"Food Desert Status\")\n",
    "plt.ylabel(\"Percentage\")\n",
    "plt.ylim(0, 1)\n",
    "plt.gca().yaxis.set_major_formatter(plt.matplotlib.ticker.PercentFormatter(1))\n",
    "\n",
    "# Add text labels\n",
    "for i, row in fd_counts.iterrows():\n",
    "    ax.text(\n",
    "        i,\n",
    "        row[\"Percentage\"] + 0.02,\n",
    "        f\"{row['Percentage']:.1%}\",\n",
    "        ha='center',\n",
    "        va='bottom',\n",
    "        fontsize=10\n",
    "    )\n",
    "\n",
    "plt.show()\n",
    "\n"
   ]
  },
  {
   "cell_type": "code",
   "execution_count": null,
   "id": "27f22f30",
   "metadata": {},
   "outputs": [],
   "source": [
    "# Plot 3: Urban/Rural vs Food Desert (stacked percent bars)\n",
    "cross = pd.crosstab(\n",
    "    selected_centroids_data[\"IsUrban\"],\n",
    "    selected_centroids_data[\"IsFoodDesert\"],\n",
    "    normalize=\"index\"\n",
    ").reset_index().melt(\n",
    "    id_vars=\"IsUrban\",\n",
    "    var_name=\"IsFoodDesert\",\n",
    "    value_name=\"Percentage\"\n",
    ")\n",
    "\n",
    "cross\n"
   ]
  },
  {
   "cell_type": "markdown",
   "id": "c639b53d",
   "metadata": {},
   "source": [
    "Urban area has 51% food desert. Rural Area has 24% food desert. Why? I thought rural area would have more food desert percentage.\n"
   ]
  },
  {
   "cell_type": "code",
   "execution_count": null,
   "id": "b4ae5e11-0f5b-438e-ad19-8d9ec829e249",
   "metadata": {
    "id": "b4ae5e11-0f5b-438e-ad19-8d9ec829e249",
    "outputId": "a7f8c493-45f5-41bd-a194-2544845f0f28"
   },
   "outputs": [],
   "source": [
    "# check correlations\n",
    "numeric_cols_df = selected_centroids_data[numeric_cols]\n",
    "\n",
    "corr = numeric_cols_df.corr()[\"IsFoodDesert\"].sort_values(ascending=False)\n",
    "print(\"Feature Correlation with Target:\\n\", corr)\n"
   ]
  },
  {
   "cell_type": "code",
   "execution_count": null,
   "id": "2977922a-b04e-4f46-b194-2e7b12f7c5b7",
   "metadata": {
    "id": "2977922a-b04e-4f46-b194-2e7b12f7c5b7",
    "outputId": "60398f24-59f9-41a6-97dc-b685f459380e"
   },
   "outputs": [],
   "source": [
    "categorical_cols = selected_centroids_data.select_dtypes(include=['object']).columns\n",
    "categorical_cols\n"
   ]
  },
  {
   "cell_type": "code",
   "execution_count": null,
   "id": "1a5f2eac-2233-445a-8830-7dd1aba834b7",
   "metadata": {
    "id": "1a5f2eac-2233-445a-8830-7dd1aba834b7",
    "outputId": "03204fba-d79d-4117-ca37-d09a273dce45"
   },
   "outputs": [],
   "source": [
    "plt.figure(figsize=(12, 6))\n",
    "ax = sns.countplot(\n",
    "    data=selected_centroids_data,\n",
    "    x='StateName',\n",
    "    hue='IsFoodDesert',\n",
    "    palette=color_dict\n",
    ")\n",
    "\n",
    "plt.title(\"Distribution of StateName by Target Class\")\n",
    "plt.xticks(rotation=45, ha='right')\n",
    "plt.ylabel(\"Count\")\n",
    "plt.xlabel(\"State\")\n",
    "\n",
    "# Get total counts per state\n",
    "state_totals = selected_centroids_data.groupby('StateName').size().to_dict()\n",
    "\n",
    "# Loop through each bar and annotate with percent\n",
    "for p in ax.patches:\n",
    "    state = p.get_x() + p.get_width() / 2\n",
    "    height = p.get_height()\n",
    "    \n",
    "    # Get the corresponding StateName from the x location\n",
    "    label = p.get_x() + p.get_width() / 2.0\n",
    "    idx = int(p.get_x() + p.get_width() / 2.0)\n",
    "\n",
    "    # x tick index corresponds to label order\n",
    "    state_idx = round(p.get_x() + p.get_width() / 2.0)\n",
    "    state_name = ax.get_xticklabels()[state_idx].get_text()\n",
    "    \n",
    "    total = state_totals.get(state_name, 1)  # fallback to 1 to avoid div-by-zero\n",
    "    percent = height / total * 100\n",
    "    \n",
    "    if height > 0:\n",
    "        ax.text(\n",
    "            p.get_x() + p.get_width() / 2.,\n",
    "            height + 1,\n",
    "            f'{percent:.1f}%',\n",
    "            ha=\"center\",\n",
    "            fontsize=9\n",
    "        )\n",
    "\n",
    "plt.tight_layout()\n",
    "plt.show()\n"
   ]
  },
  {
   "cell_type": "markdown",
   "id": "ac63d956-c119-43e8-9efb-2f78f9d79cd4",
   "metadata": {
    "id": "ac63d956-c119-43e8-9efb-2f78f9d79cd4"
   },
   "source": [
    "## GeoPandas Plots"
   ]
  },
  {
   "cell_type": "code",
   "execution_count": null,
   "id": "990d76a5",
   "metadata": {},
   "outputs": [],
   "source": [
    "selected_centroids_data.columns"
   ]
  },
  {
   "cell_type": "code",
   "execution_count": null,
   "id": "2351174b",
   "metadata": {},
   "outputs": [],
   "source": [
    "!pwd"
   ]
  },
  {
   "cell_type": "code",
   "execution_count": null,
   "id": "f9329929",
   "metadata": {},
   "outputs": [],
   "source": [
    "# Load shapefile and your data\n",
    "tracts = gpd.read_file(\"Data/cb_2020_us_tract_500k/cb_2020_us_tract_500k.shp\")\n",
    "merged = tracts.merge(selected_centroids_data, left_on='GEOID', right_on='TractID')\n",
    "merged\n",
    "# Plot\n",
    "merged.plot(column='IsFoodDesert', cmap='RdYlGn_r', legend=True)\n"
   ]
  },
  {
   "cell_type": "markdown",
   "id": "0aef7780",
   "metadata": {},
   "source": [
    "### Tract and Urban Area Distribution"
   ]
  },
  {
   "cell_type": "code",
   "execution_count": null,
   "id": "c1afc180",
   "metadata": {},
   "outputs": [],
   "source": [
    "for c in merged.columns:\n",
    "    print(c)"
   ]
  },
  {
   "cell_type": "code",
   "execution_count": null,
   "id": "ee2f002b",
   "metadata": {},
   "outputs": [],
   "source": [
    "# 1. Load shapefile (GeoDataFrame)\n",
    "tracts_gdf = gpd.read_file(\"Data/cb_2020_us_tract_500k/cb_2020_us_tract_500k.shp\")\n",
    "\n",
    "# 2. Ensure matching keys and string types\n",
    "tracts_gdf['GEOID'] = tracts_gdf['GEOID'].astype(str)\n",
    "selected_centroids_data['TractID'] = selected_centroids_data['TractID'].astype(str)\n",
    "\n",
    "# 3. Merge with additional columns (StateName, CountyName, IsUrban)\n",
    "merged_gdf = tracts_gdf.merge(\n",
    "    selected_centroids_data[['TractID', 'IsUrban', 'StateName', 'CountyName']],\n",
    "    left_on='GEOID',\n",
    "    right_on='TractID',\n",
    "    how='inner'\n",
    ")\n",
    "\n",
    "# 4. Color map for urban/rural\n",
    "color_map = {\n",
    "    0: '#71cae3',  # rural\n",
    "    1: '#54a166',  # urban\n",
    "}\n",
    "merged_gdf['UrbanType'] = merged_gdf['IsUrban'].map({0: 'Rural', 1: 'Urban'})\n",
    "\n",
    "# 5. Convert CRS and to GeoJSON\n",
    "merged_gdf = merged_gdf.to_crs(epsg=4326)\n",
    "geojson_data = merged_gdf.__geo_interface__\n",
    "\n",
    "# 6. Plotly choropleth with state/county in hover\n",
    "fig = px.choropleth_mapbox(\n",
    "    merged_gdf,\n",
    "    geojson=geojson_data,\n",
    "    locations=merged_gdf.index,\n",
    "    color=\"UrbanType\",\n",
    "    color_discrete_map={'Rural': '#71cae3', 'Urban': '#54a166'},\n",
    "    hover_data={\n",
    "        \"GEOID\": True,\n",
    "        \"StateName\": True,\n",
    "        \"CountyName\": True,\n",
    "        \"UrbanType\": True\n",
    "    },\n",
    "    mapbox_style=\"carto-positron\",\n",
    "    center={\"lat\": 37.8, \"lon\": -96},\n",
    "    zoom=3,\n",
    "    opacity=0.6\n",
    ")\n",
    "\n",
    "fig.update_layout(title=\"Urban vs Rural Census Tracts (with State and County Info)\", margin={\"r\":0,\"t\":40,\"l\":0,\"b\":0})\n",
    "fig.show()\n",
    "\n"
   ]
  },
  {
   "cell_type": "markdown",
   "id": "2baf53c6",
   "metadata": {},
   "source": [
    "### Food Desert Concentration by County"
   ]
  },
  {
   "cell_type": "code",
   "execution_count": null,
   "id": "e464586b",
   "metadata": {},
   "outputs": [],
   "source": [
    "# Load U.S. counties shapefile\n",
    "counties_gdf = gpd.read_file(\"Data/cb_2020_us_county_20m/cb_2020_us_county_20m.shp\")  # Download from Census if needed\n",
    "counties_gdf['GEOID'] = counties_gdf['STATEFP'] + counties_gdf['COUNTYFP']  # Full 5-digit FIPS code\n",
    "\n",
    "# Ensure TractID is string for matching\n",
    "selected_centroids_data['TractID'] = selected_centroids_data['TractID'].astype(str)\n",
    "\n",
    "# Create county FIPS (if not already available)\n",
    "selected_centroids_data['CountyFIPS'] = selected_centroids_data['TractID'].str[:5]\n",
    "\n",
    "# Group by county and calculate % food desert\n",
    "county_stats = selected_centroids_data.groupby('CountyFIPS').agg(\n",
    "    total_tracts=('TractID', 'count'),\n",
    "    food_deserts=('IsFoodDesert', 'sum')\n",
    ").reset_index()\n",
    "\n",
    "county_stats['food_desert_pct'] = county_stats['food_deserts'] / county_stats['total_tracts'] * 100\n",
    "\n",
    "# Merge with county shapefile\n",
    "merged_counties = counties_gdf.merge(\n",
    "    county_stats,\n",
    "    left_on='GEOID',\n",
    "    right_on='CountyFIPS',\n",
    "    how='inner'\n",
    ")\n",
    "\n",
    "# Convert to WGS84\n",
    "merged_counties = merged_counties.to_crs(epsg=4326)\n",
    "\n"
   ]
  },
  {
   "cell_type": "code",
   "execution_count": null,
   "id": "ca6a223d",
   "metadata": {},
   "outputs": [],
   "source": [
    "# Quick mapping (you can also load from a file if needed)\n",
    "fips_to_state = {\n",
    "    '01': 'Alabama', '02': 'Alaska', '04': 'Arizona', '05': 'Arkansas',\n",
    "    '06': 'California', '08': 'Colorado', '09': 'Connecticut', '10': 'Delaware',\n",
    "    '11': 'District of Columbia', '12': 'Florida', '13': 'Georgia', '15': 'Hawaii',\n",
    "    '16': 'Idaho', '17': 'Illinois', '18': 'Indiana', '19': 'Iowa',\n",
    "    '20': 'Kansas', '21': 'Kentucky', '22': 'Louisiana', '23': 'Maine',\n",
    "    '24': 'Maryland', '25': 'Massachusetts', '26': 'Michigan', '27': 'Minnesota',\n",
    "    '28': 'Mississippi', '29': 'Missouri', '30': 'Montana', '31': 'Nebraska',\n",
    "    '32': 'Nevada', '33': 'New Hampshire', '34': 'New Jersey', '35': 'New Mexico',\n",
    "    '36': 'New York', '37': 'North Carolina', '38': 'North Dakota', '39': 'Ohio',\n",
    "    '40': 'Oklahoma', '41': 'Oregon', '42': 'Pennsylvania', '44': 'Rhode Island',\n",
    "    '45': 'South Carolina', '46': 'South Dakota', '47': 'Tennessee', '48': 'Texas',\n",
    "    '49': 'Utah', '50': 'Vermont', '51': 'Virginia', '53': 'Washington',\n",
    "    '54': 'West Virginia', '55': 'Wisconsin', '56': 'Wyoming'\n",
    "}\n",
    "\n",
    "# Map it in your GeoDataFrame\n",
    "merged_counties['StateName'] = merged_counties['STATEFP'].map(fips_to_state)\n"
   ]
  },
  {
   "cell_type": "code",
   "execution_count": null,
   "id": "f6c023de",
   "metadata": {},
   "outputs": [],
   "source": [
    "fig = px.choropleth_mapbox(\n",
    "    merged_counties,\n",
    "    geojson=merged_counties.__geo_interface__,\n",
    "    locations=merged_counties.index,\n",
    "    color=\"food_desert_pct\",\n",
    "    color_continuous_scale=\"Reds\",\n",
    "    hover_data={\n",
    "        \"StateName\": True,         # <-- new line for state name\n",
    "        \"NAME\": True,              # County name\n",
    "        \"food_desert_pct\": ':.1f',\n",
    "        \"total_tracts\": True,\n",
    "        \"food_deserts\": True\n",
    "    },\n",
    "    mapbox_style=\"carto-positron\",\n",
    "    center={\"lat\": 37.8, \"lon\": -96},\n",
    "    zoom=3,\n",
    "    opacity=0.7\n",
    ")\n",
    "\n",
    "fig.update_layout(\n",
    "    title=\"Percentage of Food Desert Census Tracts per County\",\n",
    "    margin={\"r\":0,\"t\":40,\"l\":0,\"b\":0}\n",
    ")\n",
    "fig.show()\n"
   ]
  },
  {
   "cell_type": "code",
   "execution_count": null,
   "id": "05d234de",
   "metadata": {},
   "outputs": [],
   "source": []
  }
 ],
 "metadata": {
  "colab": {
   "provenance": []
  },
  "kernelspec": {
   "display_name": "base",
   "language": "python",
   "name": "python3"
  },
  "language_info": {
   "codemirror_mode": {
    "name": "ipython",
    "version": 3
   },
   "file_extension": ".py",
   "mimetype": "text/x-python",
   "name": "python",
   "nbconvert_exporter": "python",
   "pygments_lexer": "ipython3",
   "version": "3.11.4"
  }
 },
 "nbformat": 4,
 "nbformat_minor": 5
}
